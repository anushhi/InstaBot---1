{
 "cells": [
  {
   "cell_type": "code",
   "execution_count": 270,
   "id": "780a5b62",
   "metadata": {},
   "outputs": [],
   "source": [
    "#Importing packages\n",
    "from selenium import webdriver\n",
    "import os\n",
    "import sys \n",
    "import pandas as pd\n",
    "from bs4 import BeautifulSoup\n",
    "import requests\n",
    "import re\n",
    "from selenium.webdriver.support.ui import WebDriverWait\n",
    "from selenium.webdriver.common.keys import Keys\n",
    "from selenium.webdriver.common.by import By\n",
    "from selenium.webdriver.support import expected_conditions as EC\n",
    "from selenium.webdriver.chrome.options import Options"
   ]
  },
  {
   "cell_type": "code",
   "execution_count": 271,
   "id": "23a45d57",
   "metadata": {},
   "outputs": [],
   "source": [
    "#creating a driver session and loading instagram\n",
    "\n",
    "os.path.dirname(sys.executable)\n",
    "driver = webdriver.Chrome()\n",
    "driver.get('https://instagram.com')\n"
   ]
  },
  {
   "cell_type": "code",
   "execution_count": 349,
   "id": "6b836326",
   "metadata": {},
   "outputs": [],
   "source": [
    "# 1\n",
    "# Login to Instagram Handle\n",
    "\n",
    "user = driver.find_elements_by_css_selector('form input')[0]\n",
    "user.send_keys(\"Sample ID\")\n",
    "\n",
    "pas = driver.find_elements_by_css_selector('form input')[1]\n",
    "pas.send_keys(\"Sample Password\")\n",
    "\n",
    "form = driver.find_element_by_tag_name('form')\n",
    "form.submit()\n"
   ]
  },
  {
   "cell_type": "code",
   "execution_count": 350,
   "id": "40265587",
   "metadata": {},
   "outputs": [],
   "source": [
    "# 2\n",
    "# Type for “food” in search bar and \n",
    "# print all the names of the Instagram Handles that are displayed in list after typing “food”\n",
    "# Note : Make sure to avoid printing hashtags\n",
    "\n",
    "#obtaining search bar and searching keyword food\n",
    "\n",
    "search= driver.find_element(By.XPATH,'//input[@placeholder = \"Search\"]')\n",
    "search.clear()\n",
    "search.send_keys('food')\n"
   ]
  },
  {
   "cell_type": "code",
   "execution_count": 351,
   "id": "3818dbdd",
   "metadata": {},
   "outputs": [
    {
     "name": "stdout",
     "output_type": "stream",
     "text": [
      "odisha_food_lover\n",
      "_foodph_\n",
      "foodies_of_bhubaneswar\n",
      "food_trove\n",
      "yourfoodlab\n",
      "foodalicious_foodies\n",
      "food\n",
      "odisha_food_diary\n",
      "sinful_foodie\n",
      "bbsr_food_lover\n",
      "food_columnist_\n",
      "varenyas_food_arena\n",
      "foody_kole\n",
      "foodgod\n",
      "foodfindo\n",
      "foodishah\n",
      "foodstoriesbybarsha\n",
      "food_odia\n",
      "sohani_eats\n",
      "_food_paradise_16\n",
      "_.the._.food._.corner._\n",
      "fooddiariesss\n",
      "foodaddictionas\n",
      "foodinsider\n",
      "food_swings_mood_swings\n",
      "memories_of_meals\n",
      "__.cravings.__\n",
      "foodofthenation\n",
      "food_travel_worlddd\n",
      "_foodie.phenomenal_15\n",
      "foodandwine\n",
      "the.food.epicure\n",
      "_foodie_junction_\n",
      "meghnasfoodmagic\n",
      "food_culture_nature\n",
      "besar_food\n",
      "foodporn\n",
      "__foodigram__\n",
      "odishafoodexplore\n",
      "food_and_them_\n",
      "_.foodie._1\n",
      "foodmood976\n",
      "foodies_of_rourkela\n",
      "cuttack_food_love\n",
      "food_picasso89\n",
      "_.moodyfoody._\n",
      "_.foodpicasso._\n",
      "odisha_food.frolic_\n",
      "_food.yum.delicacy_\n",
      "foodies_of_bbsr\n"
     ]
    }
   ],
   "source": [
    "#obtaining pop down menu\n",
    "name_class = driver.find_elements(By.XPATH,\"//div[@class = '_9_68 _9_6b _9_6i _9_6j _9_6t']\")\n",
    "\n",
    "#traverse thorugh the items and append account names to a list\n",
    "names = []\n",
    "for name in name_class:\n",
    "    i = name.get_attribute('innerHTML')\n",
    "    if i[0] != '#':\n",
    "        names.append(i)\n",
    "for name in names:     \n",
    "    print(name)"
   ]
  },
  {
   "cell_type": "code",
   "execution_count": 330,
   "id": "f0dd0463",
   "metadata": {},
   "outputs": [],
   "source": [
    "# 3\n",
    "# open So Delhi profile\n",
    "\n",
    "search = driver.find_element(By.XPATH,'//input[@placeholder = \"Search\"]')\n",
    "search.clear()\n",
    "search.send_keys('So Delhi')\n",
    "driver.implicitly_wait(15)\n",
    "\n",
    "#obtaining the first profile\n",
    "button = driver.find_element(By.XPATH,\"//div[@class = '_9-rn']/div/a\")\n",
    "button.click()"
   ]
  },
  {
   "cell_type": "code",
   "execution_count": 312,
   "id": "51be7d52",
   "metadata": {},
   "outputs": [
    {
     "name": "stdout",
     "output_type": "stream",
     "text": [
      "Now Following\n"
     ]
    }
   ],
   "source": [
    "# 4\n",
    "# Open the Instagram Handle of “So Delhi”\n",
    "# Start following it. Print a message if you are already following\n",
    "# After following, unfollow the instagram handle. Print a message if you have already unfollowed.\n",
    "\n",
    "\n",
    "#retrieving the follow button\n",
    "follow_button = driver.find_element(By.XPATH,\"//span[@class = '_9-25 _9-bq']/button\")\n",
    "\n",
    "html = follow_button.get_attribute('outerHTML')\n",
    "follow = BeautifulSoup(html,'html5lib').text\n",
    "\n",
    "#checking if data is showing following or not,if not,click follow button\n",
    "if follow == 'Follow':\n",
    "    follow_button.click()\n",
    "    print(\"Now Following\")\n",
    "else:\n",
    "    print('Already Following')\n"
   ]
  },
  {
   "cell_type": "code",
   "execution_count": 314,
   "id": "e28f7287",
   "metadata": {},
   "outputs": [
    {
     "name": "stdout",
     "output_type": "stream",
     "text": [
      "Already Unfollowed\n"
     ]
    }
   ],
   "source": [
    "# After following, unfollow the instagram handle. Print a message if you have already unfollowed.\n",
    "\n",
    "#obtaining the follow button\n",
    "follow_button = driver.find_element(By.XPATH,\"//span[@class = '_9-25 _9-bq']/button\")\n",
    "\n",
    "html = follow_button.get_attribute('outerHTML')\n",
    "follow = BeautifulSoup(html,'html5lib').text\n",
    "#checking if data is showing following or not\n",
    "#if following,click unfollow button\n",
    "\n",
    "if follow == 'Follow':\n",
    "    print(\"Already Unfollowed\")\n",
    "else:\n",
    "    follow_button.click()\n",
    "    driver.implicitly_wait(3)\n",
    "    unfollow_button = driver.find_element(By.XPATH,\"//div[@class = '_9-l1']/button\")\n",
    "    unfollow_button.click()\n",
    "    print('Unfollowed')\n",
    "    "
   ]
  },
  {
   "cell_type": "code",
   "execution_count": 319,
   "id": "d02d223f",
   "metadata": {},
   "outputs": [],
   "source": [
    "# 5\n",
    "# Like/Unlike posts\n",
    "# Liking the top 30 posts of the ‘dilsefoodie'. Print message if you have already liked it.\n",
    "# Unliking the top 30 posts of the ‘dilsefoodie’. Print message if you have already unliked it.\n",
    "\n",
    "# Searching profile\n",
    "search= driver.find_element(By.XPATH,'//input[@placeholder = \"Search\"]')\n",
    "search.send_keys('dilsefoodie')\n",
    "driver.implicitly_wait(5)\n",
    "button = driver.find_element(By.XPATH,\"//div[@class = '_9-rn']/div/a\")\n",
    "button.click()\n",
    "driver.implicitly_wait(15)\n"
   ]
  },
  {
   "cell_type": "code",
   "execution_count": 347,
   "id": "e3668f70",
   "metadata": {},
   "outputs": [],
   "source": [
    "# opening a post\n",
    "post = WebDriverWait(driver,10).until(EC.presence_of_element_located((By.XPATH,\"//div[@class='_9_92']\"))) \n",
    "post.click()\n",
    "driver.implicitly_wait(15)\n",
    "   \n",
    "\n",
    "# liking a post\n",
    "# \n",
    "i = 1    \n",
    "while True:\n",
    "    button = driver.find_element(By.XPATH,\"//span[@class = '_9znc']/button\")\n",
    "    html = button.get_attribute('outerHTML')\n",
    "    type_button = BeautifulSoup(html,'html5lib')\n",
    "    like = type_button.find(class_ = '_9zn7')\n",
    "    #checking if post is unliked\n",
    "    if like['aria-label'] == 'Like':\n",
    "        button.click()\n",
    "        print('Liked')\n",
    "    else:\n",
    "        print('Already Liked')\n",
    "    driver.implicitly_wait(15)\n",
    "    #clicking on next button\n",
    "    next_button = driver.find_element(By.XPATH,\"//div[@class = ' _a1bt _a2jd']/button\").click()\n",
    "    #if more than 30 post break the loop\n",
    "    if i == 31:\n",
    "        break\n",
    "    i += 1\n",
    "driver.back()"
   ]
  },
  {
   "cell_type": "code",
   "execution_count": 348,
   "id": "00d7861b",
   "metadata": {},
   "outputs": [],
   "source": [
    "# Uniliking a post\n",
    "i = 1    \n",
    "while True:\n",
    "    button = driver.find_element(By.XPATH,\"//span[@class = '_9znc']/button\")\n",
    "    html = button.get_attribute('outerHTML')\n",
    "    type_button = BeautifulSoup(html,'html5lib')\n",
    "    like = type_button.find(class_ = '_9zn7')\n",
    "    #checking if post is liked already\n",
    "    if like['aria-label'] == 'Unlike':\n",
    "        button.click()\n",
    "        print('Unliked')\n",
    "    else:\n",
    "        print('Already Unliked')\n",
    "    driver.implicitly_wait(3)\n",
    "    #clicking on next post\n",
    "    next_button = driver.find_element(By.XPATH,\"//div[@class = ' _a1bt _a2jd']/button\").click()\n",
    "    if i == 31:\n",
    "        break\n",
    "    i += 1    \n",
    "driver.back()        "
   ]
  },
  {
   "cell_type": "code",
   "execution_count": 332,
   "id": "86712d17",
   "metadata": {},
   "outputs": [],
   "source": [
    "#6\n",
    "# Extract list of followers\n",
    "# Extract the usernames of the first 500 followers of ‘foodtalkindia’ and ‘sodelhi’.\n",
    "# Now print all the followers of “foodtalkindia” that you are following but those who don’t follow you.\n",
    "\n",
    "# searching a profile foodtalkindia\n",
    "# search= driver.find_element_by_xpath('//input[@placeholder = \"Search\"]')\n",
    "\n",
    "search= driver.find_element(By.XPATH,'//input[@placeholder = \"Search\"]')\n",
    "search.clear()\n",
    "#entering keyword\n",
    "search.send_keys('foodtalkindia')\n",
    "driver.implicitly_wait(5)\n",
    "button = driver.find_element(By.XPATH,\"//div[@class = '_9-rn']/div/a\")\n",
    "button.click()"
   ]
  },
  {
   "cell_type": "code",
   "execution_count": 336,
   "id": "e35a4c33",
   "metadata": {},
   "outputs": [],
   "source": [
    "#opening the followers list\n",
    "followers_button = driver.find_element(By.XPATH,\"//li[@class = '_9_da'][2]\")\n",
    "followers_button.click()\n",
    "driver.implicitly_wait(15)\n",
    "\n",
    "# Scrolling through drop down menu\n",
    "pop_up_window = WebDriverWait(driver,2).until(EC.element_to_be_clickable((By.XPATH,\"//div[@class='_9-49']\")))\n",
    "i = 0 \n",
    "while True:\n",
    "    i += 5\n",
    "    driver.execute_script('arguments[0].scrollTop = arguments[0].scrollTop + arguments[0].offsetHeight;',pop_up_window)\n",
    "    driver.implicitly_wait(10)\n",
    "    if i > 500:\n",
    "        break"
   ]
  },
  {
   "cell_type": "code",
   "execution_count": 337,
   "id": "9ca04779",
   "metadata": {},
   "outputs": [
    {
     "name": "stdout",
     "output_type": "stream",
     "text": [
      "['4236.sanju', 'kalpeshah7', 'aadilaadil8110', 'khanrizwi9', 'kish__ore_', 'its_abhay_thakur', 'i_rohitkelkar', 'aaryamehatri', '_its___me__nandu_', 'deepakraj2565', 'gowtham_sameer', 'kulwinderkaur7423']\n",
      "12\n"
     ]
    }
   ],
   "source": [
    "#finding all followers by searching all elements of the same class\n",
    "follower_names = []\n",
    "followers = driver.find_elements(By.XPATH,'//span[@class = \"_9_68 _9_6b _9_6i _9_6j _9_6u _9_6_\"]')\n",
    "\n",
    "#traversing only 500 followers\n",
    "for id in followers[:500]:\n",
    "    follower_names.append(id.get_attribute('innerHTML'))\n",
    "print(follower_names)\n",
    "print(len(follower_names))"
   ]
  },
  {
   "cell_type": "code",
   "execution_count": 346,
   "id": "939b5c3d",
   "metadata": {
    "scrolled": true
   },
   "outputs": [
    {
     "name": "stdout",
     "output_type": "stream",
     "text": [
      "foodtalkindia Followers\n",
      "['inside_sweets_333', 'aditibanerjeeofficial', 'advprabhatomar', 'chiragshah7455', 'ig.followers_service', 'selmon_tz', 'rraghuraman97', 'sudhan7988', 'hiroshiollie', '_vickyshah', 'yogiplusminus', 'neelmehra999', 'akash.tokas1', 'camilla51bellatrix5', 'nashruddin67', 'florencejames8738', 'garimajain803', 'navin.agarwal0208', 'v_ipul95', 'rasool.sn', 'geethareddymuli', 'wewhineanddine', 'yuphorian', '1313_krish']\n",
      "Sodelhi Followers\n",
      "['inside_sweets_333', 'aditibanerjeeofficial', 'advprabhatomar', 'chiragshah7455', 'ig.followers_service', 'selmon_tz', 'rraghuraman97', 'sudhan7988', 'hiroshiollie', '_vickyshah', 'yogiplusminus', 'neelmehra999', 'akash.tokas1', 'camilla51bellatrix5', 'nashruddin67', 'florencejames8738', 'garimajain803', 'navin.agarwal0208', 'v_ipul95', 'rasool.sn', 'geethareddymuli', 'wewhineanddine', 'yuphorian', '1313_krish', '96vanessa_ferrara', 'samyukthaahuman', 'uday31813', 'adaayakhan123', 'rahatarora', 'nik0335', 'yomamascookin', '__ritik_bhagat__', '24framz', 'hotelroyal77', 'nirvana_jajabara', 'shaan_e_dilli1986']\n"
     ]
    }
   ],
   "source": [
    "# Now print all the followers of “foodtalkindia” that you are following but those who don’t follow you.\n",
    "\n",
    "# ************************************************\n",
    "# Note - If it is not printing 500 followers ,it  \n",
    "#        is due to slow internet connection.\n",
    "# ************************************************\n",
    "\n",
    "#function to find followers of specific user handle\n",
    "#we pass their empty follower list and the user handle\n",
    "def follower_names(name_list,insta_name):\n",
    "    search= driver.find_element(By.XPATH,'//input[@placeholder = \"Search\"]')\n",
    "    search.clear()\n",
    "    #searching the user handle\n",
    "    search.send_keys(insta_name)\n",
    "    driver.implicitly_wait(15)\n",
    "    button = driver.find_element(By.XPATH,\"//div[@class = '_9-rn']/div/a\")\n",
    "    button.click()\n",
    "    driver.implicitly_wait(15)\n",
    "    \n",
    "    #opening the followers list\n",
    "    followers_button = driver.find_element(By.XPATH,\"//li[@class = '_9_da'][2]\")\n",
    "    followers_button.click()\n",
    "    driver.implicitly_wait(15)\n",
    "    \n",
    "    pop_up_window = WebDriverWait(driver,2).until(EC.element_to_be_clickable((By.XPATH,\"//div[@class='_9-49']\")))\n",
    "    driver.implicitly_wait(15)\n",
    "    #scrolling the pop up window showing followers\n",
    "    i = 0 \n",
    "    while True:\n",
    "        i += 5\n",
    "        driver.execute_script('arguments[0].scrollTop = arguments[0].scrollTop + arguments[0].offsetHeight;',pop_up_window)\n",
    "        driver.implicitly_wait(10)\n",
    "        if i > 500:\n",
    "            break   \n",
    "    followers = driver.find_elements(By.XPATH,'//span[@class = \"_9_68 _9_6b _9_6i _9_6j _9_6u _9_6_\"]')\n",
    "    driver.implicitly_wait(5)\n",
    "    for id_ in followers[:500]:\n",
    "        name_list.append(id_.get_attribute('innerHTML'))\n",
    "    driver.back()\n",
    "    \n",
    "    \n",
    "sodelhi_followers = []\n",
    "foodtalkindia_followers = []\n",
    "follower_names(foodtalkindia_followers,'foodtalkindia')\n",
    "print('foodtalkindia Followers')\n",
    "print(foodtalkindia_followers)\n",
    "\n",
    "follower_names(sodelhi_followers,'Sodelhi')\n",
    "print('Sodelhi Followers')\n",
    "print(sodelhi_followers)"
   ]
  },
  {
   "cell_type": "code",
   "execution_count": 343,
   "id": "a7335d59",
   "metadata": {},
   "outputs": [
    {
     "name": "stdout",
     "output_type": "stream",
     "text": [
      "Seen Now\n"
     ]
    }
   ],
   "source": [
    "# 7\n",
    "# Check the story of ‘coding.ninjas’. Consider the following Scenarios and print error messages accordingly -\n",
    "# 1-If You have already seen the story.\n",
    "# 2-Or The user has no story.\n",
    "# 3-Or View the story if not yet seen.\n",
    "\n",
    "search= driver.find_element(By.XPATH,'//input[@placeholder = \"Search\"]')\n",
    "\n",
    "search.send_keys('coding.ninjas')\n",
    "driver.implicitly_wait(5)\n",
    "\n",
    "button = driver.find_element(By.XPATH,\"//div[@class = '_9-rn']/div/a\")\n",
    "button.click()\n",
    "driver.implicitly_wait(5)\n",
    "\n",
    "#we search for the story button which is clickable\n",
    "#if it is there it will remain in try block otherwise it will go to the except block\n",
    "\n",
    "try:\n",
    "    story_button = driver.find_element(By.XPATH,'//div[@class = \"_9zr7 _9zr8\"]')\n",
    "    data = driver.find_element(By.XPATH,'//div[@class = \"_9zr7 _9zr8\"]/canvas')\n",
    "    if data.get_attribute('height') == '166':\n",
    "        print('Already Seen')\n",
    "    else:\n",
    "        story_button.click()\n",
    "        print('Seen Now')\n",
    "except:\n",
    "    print('User has no story')"
   ]
  }
 ],
 "metadata": {
  "kernelspec": {
   "display_name": "Python 3 (ipykernel)",
   "language": "python",
   "name": "python3"
  },
  "language_info": {
   "codemirror_mode": {
    "name": "ipython",
    "version": 3
   },
   "file_extension": ".py",
   "mimetype": "text/x-python",
   "name": "python",
   "nbconvert_exporter": "python",
   "pygments_lexer": "ipython3",
   "version": "3.9.7"
  }
 },
 "nbformat": 4,
 "nbformat_minor": 5
}
